{
 "cells": [
  {
   "cell_type": "markdown",
   "id": "02b62437",
   "metadata": {},
   "source": [
    "# basic fourier checking using qiskit's builtin functions"
   ]
  },
  {
   "cell_type": "code",
   "execution_count": 2,
   "id": "2be4ff18-6628-487c-9ccd-0628930bd225",
   "metadata": {},
   "outputs": [
    {
     "data": {
      "text/plain": [
       "True"
      ]
     },
     "execution_count": 2,
     "metadata": {},
     "output_type": "execute_result"
    }
   ],
   "source": [
    "import qiskit.quantum_info as qi\n",
    "from qiskit.circuit.library import FourierChecking\n",
    "from qiskit.visualization import plot_histogram\n",
    "import qiskit_ibm_runtime\n",
    "import dotenv\n",
    "import os\n",
    "import matplotlib\n",
    "import pylatexenc\n",
    "\n",
    "dotenv.load_dotenv()"
   ]
  },
  {
   "cell_type": "code",
   "execution_count": 3,
   "id": "138f5892-18ef-4645-bea3-1de35cab10c3",
   "metadata": {},
   "outputs": [],
   "source": [
    "t: str = os.getenv(\"API_KEY\")\n",
    "f: list[int] = [1, -1, -1, -1, 1, -1, -1, 1]\n",
    "g: list[int] = [1, -1, -1, -1, -1, 1, 1, 1]"
   ]
  },
  {
   "cell_type": "code",
   "execution_count": 4,
   "id": "e30cd717-8610-401b-944b-a1c44dba5370",
   "metadata": {},
   "outputs": [
    {
     "data": {
      "image/png": "[encoded data removed]",
      "text/plain": [
       "<Figure size 872.774x284.278 with 1 Axes>"
      ]
     },
     "execution_count": 4,
     "metadata": {},
     "output_type": "execute_result"
    }
   ],
   "source": [
    "circ = FourierChecking(f=f, g=g)\n",
    "circ.draw(output=\"mpl\")"
   ]
  },
  {
   "cell_type": "code",
   "execution_count": 5,
   "id": "002844f0",
   "metadata": {},
   "outputs": [
    {
     "name": "stdout",
     "output_type": "stream",
     "text": [
      "{np.str_('000'): np.float64(0.12499999999999982), np.str_('001'): np.float64(0.12499999999999978), np.str_('010'): np.float64(0.12499999999999982), np.str_('011'): np.float64(0.12499999999999978), np.str_('100'): np.float64(0.4999999999999993), np.str_('101'): np.float64(7.623390535263404e-33), np.str_('110'): np.float64(1.6498782056586598e-33), np.str_('111'): np.float64(2.0322133012415678e-32)}\n"
     ]
    }
   ],
   "source": [
    "zero = qi.Statevector.from_label('0' * circ.num_qubits)\n",
    "sv = zero.evolve(circ)\n",
    "probs = sv.probabilities_dict()\n",
    "plot_histogram(probs)\n",
    "print(probs)"
   ]
  }
 ],
 "metadata": {
  "kernelspec": {
   "display_name": "qiskit",
   "language": "python",
   "name": "python3"
  },
  "language_info": {
   "codemirror_mode": {
    "name": "ipython",
    "version": 3
   },
   "file_extension": ".py",
   "mimetype": "text/x-python",
   "name": "python",
   "nbconvert_exporter": "python",
   "pygments_lexer": "ipython3",
   "version": "3.12.2"
  }
 },
 "nbformat": 4,
 "nbformat_minor": 5
}
